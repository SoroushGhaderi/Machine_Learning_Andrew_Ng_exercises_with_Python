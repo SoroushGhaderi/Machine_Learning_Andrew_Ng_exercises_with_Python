{
 "cells": [
  {
   "cell_type": "markdown",
   "metadata": {},
   "source": [
    "# Programming Exercise 7:\n",
    "# K-means Clustering and Principal Component Analysis\n",
    "\n",
    "## Introduction\n",
    "\n",
    "In this exercise, you will implement the K-means clustering algorithm and apply it to compress an image. In the second part, you will use principal component analysis to find a low-dimensional representation of face images. Before starting on the programming exercise, we strongly recommend watching the video lectures and completing the review questions for the associated topics.\n",
    "\n",
    "All the information you need for solving this assignment is in this notebook, and all the code you will be implementing will take place within this notebook. The assignment can be promptly submitted to the coursera grader directly from this notebook (code and instructions are included below).\n",
    "\n",
    "Before we begin with the exercises, we need to import all libraries required for this programming exercise. Throughout the course, we will be using [`numpy`](http://www.numpy.org/) for all arrays and matrix operations, [`matplotlib`](https://matplotlib.org/) for plotting, and [`scipy`](https://docs.scipy.org/doc/scipy/reference/) for scientific and numerical computation functions and tools."
   ]
  },
  {
   "cell_type": "code",
   "execution_count": 1,
   "metadata": {},
   "outputs": [],
   "source": [
    "import re\n",
    "import numpy as np\n",
    "import matplotlib.pyplot as plt\n",
    "from scipy.io import loadmat\n",
    "from scipy import optimize\n",
    "try:\n",
    "    plt.rcParams[\"animation.html\"] = \"jshtml\"\n",
    "except ValueError:\n",
    "    plt.rcParams[\"animation.html\"] = \"html5\""
   ]
  },
  {
   "cell_type": "markdown",
   "metadata": {},
   "source": [
    "## 1 K-means Clustering\n",
    "\n",
    "In this exercise, you will implement K-means algorithm and use it for image compression. You will first start on an example 2D dataset that will help you gain an intuition of how the K-means algorithm works. After\n",
    "that, you wil use the K-means algorithm for image compression by reducing the number of colors that occur in an image to only those that are most common in that image.\n",
    "\n",
    "### 1.1 Implementing K-means\n",
    "\n",
    "The K-means algorithm is a method to automatically cluster similar data examples together. Concretely, you are given a training set $\\{x^{(1)} , \\cdots, x^{(m)}\\}$ (where $x^{(i)} \\in \\mathbb{R}^n$), and want to group the data into a few cohesive “clusters”. The intuition behind K-means is an iterative procedure that starts by guessing the initial centroids, and then refines this guess by repeatedly assigning examples to their closest centroids and then recomputing the centroids based on the assignments.\n",
    "\n",
    "The K-means algorithm is as follows:\n",
    "\n",
    "```python\n",
    "centroids = k_means_init_centroids(X, K)\n",
    "for i in range(iterations):\n",
    "    # Cluster assignment step: Assign each data point to the\n",
    "    # closest centroid. idx[i] corresponds to cˆ(i), the index\n",
    "    # of the centroid assigned to example i\n",
    "    idx = find_closest_centroids(X, centroids)\n",
    "    \n",
    "    # Move centroid step: Compute means based on centroid\n",
    "    # assignments\n",
    "    centroids = compute_means(X, idx, K)\n",
    "```\n",
    "\n",
    "The inner-loop of the algorithm repeatedly carries out two steps: (1) Assigning each training example $x^{(i)}$ to its closest centroid, and (2) Recomputing the mean of each centroid using the points assigned to it. The K-means algorithm will always converge to some final set of means for the centroids. Note that the converged solution may not always be ideal and depends on the initial setting of the centroids. Therefore, in practice the K-means algorithm is usually run a few times with different random initializations. One way to choose between these different solutions from different random initializations is to choose the one with the lowest cost function value (distortion). You will implement the two phases of the K-means algorithm separately\n",
    "in the next sections."
   ]
  },
  {
   "cell_type": "markdown",
   "metadata": {},
   "source": [
    "#### 1.1.1 Finding closest centroids\n",
    "\n",
    "In the “cluster assignment” phase of the K-means algorithm, the algorithm assigns every training example $x^{(i)}$ to its closest centroid, given the current positions of centroids. Specifically, for every example $i$ we set\n",
    "\n",
    "$$c^{(i)} := j \\quad \\text{that minimizes} \\quad \\lvert\\rvert x^{(i)} - \\mu_j  \\lvert\\rvert^2, $$\n",
    "\n",
    "where $c^{(i)}$ is the index of the centroid that is closest to $x^{(i)}$, and $\\mu_j$ is the position (value) of the $j^{th}$ centroid. Note that $c^{(i)}$ corresponds to `idx[i]` in the starter code.\n",
    "\n",
    "Your task is to complete the code in the function `find_closest_centroids`. This function takes the data matrix `X` and the locations of all centroids inside `centroids` and should output a one-dimensional array `idx` that holds the index (a value in $\\{1, ..., K\\}$, where $K$ is total number of centroids) of the closest centroid to every training example.\n",
    "\n",
    "You can implement this using a loop over every training example and every centroid."
   ]
  },
  {
   "cell_type": "code",
   "execution_count": 5,
   "metadata": {},
   "outputs": [],
   "source": [
    "def find_closest_centroids(X, centroids):\n",
    "    \"\"\"\n",
    "    Computes the centroid memberships for every example.\n",
    "    \n",
    "    Parameters\n",
    "    ----------\n",
    "    X : array_like\n",
    "        The dataset of size (m, n) where each row is a single example. \n",
    "        That is, we have m examples each of n dimensions.\n",
    "        \n",
    "    centroids : array_like\n",
    "        The k-means centroids of size (K, n). K is the number\n",
    "        of clusters, and n is the the data dimension.\n",
    "    \n",
    "    Returns\n",
    "    -------\n",
    "    idx : array_like\n",
    "        A vector of size (m, ) which holds the centroids assignment for each\n",
    "        example (row) in the dataset X.\n",
    "    \n",
    "    Instructions\n",
    "    ------------\n",
    "    Go over every example, find its closest centroid, and store\n",
    "    the index inside `idx` at the appropriate location.\n",
    "    Concretely, idx[i] should contain the index of the centroid\n",
    "    closest to example i. Hence, it should be a value in the \n",
    "    range 0..K-1\n",
    "\n",
    "    Note\n",
    "    ----\n",
    "    You can use a for-loop over the examples to compute this.\n",
    "    \"\"\"\n",
    "    # Set K\n",
    "    K = centroids.shape[0]\n",
    "\n",
    "    # You need to return the following variables correctly.\n",
    "    idx = np.zeros(X.shape[0], dtype=int)\n",
    "\n",
    "    for i in np.arange(idx.size):\n",
    "        \n",
    "        J = np.sqrt(np.sum(np.square(X[i] - centroids), axis = 1))\n",
    "            \n",
    "        idx[i] = np.argmin(J)\n",
    "    \n",
    "    return idx"
   ]
  },
  {
   "cell_type": "markdown",
   "metadata": {},
   "source": [
    "Once you have completed the code in `find_closest_centroids`, the following cell will run your code and you should see the output `[0 2 1]` corresponding to the centroid assignments for the first 3 examples."
   ]
  },
  {
   "cell_type": "code",
   "execution_count": 7,
   "metadata": {},
   "outputs": [
    {
     "name": "stdout",
     "output_type": "stream",
     "text": [
      "Closest centroids for the first 3 examples:\n",
      "[0 2 1]\n",
      "(the closest centroids should be 0, 2, 1 respectively)\n"
     ]
    }
   ],
   "source": [
    "# Load an example dataset that we will be using\n",
    "data = loadmat(\"Data/ex7data2.mat\")\n",
    "X = data['X']\n",
    "# Select an initial set of centroids\n",
    "K = 3   # 3 Centroids\n",
    "initial_centroids = np.array([[3, 3], [6, 2], [8, 5]])\n",
    "# Find the closest centroids for the examples using the initial_centroids\n",
    "idx = find_closest_centroids(X, initial_centroids)\n",
    "\n",
    "print('Closest centroids for the first 3 examples:')\n",
    "print(idx[:3])\n",
    "print('(the closest centroids should be 0, 2, 1 respectively)')"
   ]
  },
  {
   "cell_type": "code",
   "execution_count": 15,
   "metadata": {},
   "outputs": [
    {
     "data": {
      "text/plain": [
       "(3, 2)"
      ]
     },
     "execution_count": 15,
     "metadata": {},
     "output_type": "execute_result"
    }
   ],
   "source": [
    "initial_centroids.shape"
   ]
  },
  {
   "cell_type": "code",
   "execution_count": 19,
   "metadata": {},
   "outputs": [
    {
     "data": {
      "image/png": "[encoded data removed]",
      "text/plain": [
       "<Figure size 720x432 with 1 Axes>"
      ]
     },
     "metadata": {
      "needs_background": "light"
     },
     "output_type": "display_data"
    }
   ],
   "source": [
    "plt.figure(figsize= (10,6))\n",
    "plt.scatter(X[:,0], X[:,1], c= \"gold\")\n",
    "plt.title(\"Unlabeled Data\")\n",
    "plt.show()"
   ]
  },
  {
   "cell_type": "code",
   "execution_count": null,
   "metadata": {},
   "outputs": [],
   "source": []
  }
 ],
 "metadata": {
  "kernelspec": {
   "display_name": "Python 3",
   "language": "python",
   "name": "python3"
  },
  "language_info": {
   "codemirror_mode": {
    "name": "ipython",
    "version": 3
   },
   "file_extension": ".py",
   "mimetype": "text/x-python",
   "name": "python",
   "nbconvert_exporter": "python",
   "pygments_lexer": "ipython3",
   "version": "3.7.7"
  }
 },
 "nbformat": 4,
 "nbformat_minor": 4
}
